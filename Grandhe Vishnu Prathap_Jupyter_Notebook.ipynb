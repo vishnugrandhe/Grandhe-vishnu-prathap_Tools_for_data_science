{
 "cells": [
  {
   "cell_type": "markdown",
   "metadata": {},
   "source": [
    "<center>\n",
    "    <img src=\"https://cf-courses-data.s3.us.cloud-object-storage.appdomain.cloud/IBMDeveloperSkillsNetwork-DS0105EN-SkillsNetwork/labs/Module2/images/SN_web_lightmode.png\" width=\"300\" alt=\"cognitiveclass.ai logo\"  />\n",
    "</center>\n"
   ]
  },
  {
   "cell_type": "markdown",
   "metadata": {},
   "source": [
    "#### Add your code below following the instructions given in the course\n"
   ]
  },
  {
   "cell_type": "markdown",
   "metadata": {},
   "source": [
    "<h1>My Jupyter Notebook on IBM Watson Studio</h1>"
   ]
  },
  {
   "cell_type": "markdown",
   "metadata": {},
   "source": [
    "**Grandhe Vishnu Prathap**</br>\n",
    "Student"
   ]
  },
  {
   "cell_type": "markdown",
   "metadata": {},
   "source": [
    "*I am interested in data science because I love to play with data and numbers. I am also a keen observer and love to relate everything with data to find solutions to the problems.I want to pursue my career in data science and achieve greater heights in this field.*"
   ]
  },
  {
   "cell_type": "markdown",
   "metadata": {},
   "source": [
    "<h3>The following code is going to print sum of first 10 natural numbers</h3>"
   ]
  },
  {
   "cell_type": "code",
   "execution_count": 1,
   "metadata": {},
   "outputs": [
    {
     "name": "stdout",
     "output_type": "stream",
     "text": [
      "55\n"
     ]
    }
   ],
   "source": [
    "n=10\n",
    "sum=0\n",
    "for i in range(n+1):\n",
    "    sum+=i\n",
    "print(sum)"
   ]
  },
  {
   "cell_type": "markdown",
   "metadata": {},
   "source": [
    "<h4>Horizontal Rule</h4>\n",
    "<hr>\n",
    "<h4>Bulleted list</h4>\n",
    "<ul>\n",
    "    <li>IBM</li>\n",
    "    <li>Google</li>\n",
    "    <li>Microsoft</li>\n",
    "    <li>Coursera</li>\n",
    "    <li>LinkedIn</li>\n",
    "    <li>Facebook/Meta</li>\n",
    "</ul>\n",
    "<h4>Numbered list</h4>\n",
    "<ol>\n",
    "    <li>Tableau</li>\n",
    "    <li>Excel</li>\n",
    "    <li>Apache Spark</li>\n",
    "    <li>IBM Cognos Analytics</li>\n",
    "    <li>Microsoft Power BI</li>\n",
    "    <li>Python</li>\n",
    "</ol>\n",
    "<h4>Hyperlink</h4>\n",
    "<a href=\"https://in.coursera.org/\">Link to Coursera</a>\n",
    "<h4>Strike through</h4>\n",
    "<p><s>This sentence is striked through because It is a TASK hahaha </s></p>"
   ]
  }
 ],
 "metadata": {
  "kernelspec": {
   "display_name": "Python",
   "language": "python",
   "name": "conda-env-python-py"
  },
  "language_info": {
   "codemirror_mode": {
    "name": "ipython",
    "version": 3
   },
   "file_extension": ".py",
   "mimetype": "text/x-python",
   "name": "python",
   "nbconvert_exporter": "python",
   "pygments_lexer": "ipython3",
   "version": "3.7.12"
  }
 },
 "nbformat": 4,
 "nbformat_minor": 4
}
